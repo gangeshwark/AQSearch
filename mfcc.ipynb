{
 "cells": [
  {
   "cell_type": "code",
   "execution_count": 1,
   "metadata": {
    "collapsed": false
   },
   "outputs": [
    {
     "name": "stdout",
     "output_type": "stream",
     "text": [
      "Populating the interactive namespace from numpy and matplotlib\n"
     ]
    }
   ],
   "source": [
    "import scipy.io.wavfile\n",
    "import numpy\n",
    "import matplotlib\n",
    "\n",
    "from bob import ap\n",
    "%pylab inline"
   ]
  },
  {
   "cell_type": "markdown",
   "metadata": {},
   "source": [
    "Read the wave files"
   ]
  },
  {
   "cell_type": "code",
   "execution_count": 2,
   "metadata": {},
   "outputs": [],
   "source": [
    "c_wave_path = '/home/gangeshwark/PycharmProjects/AQSearch/data/my4Hellow.wav'\n",
    "q_wave_path = '/home/gangeshwark/PycharmProjects/AQSearch/data/queryHellow.wav'\n",
    "\n",
    "crate, csignal = scipy.io.wavfile.read(str(c_wave_path))\n",
    "qrate, qsignal = scipy.io.wavfile.read(str(q_wave_path))"
   ]
  },
  {
   "cell_type": "code",
   "execution_count": 3,
   "metadata": {},
   "outputs": [
    {
     "name": "stdout",
     "output_type": "stream",
     "text": [
      "16000 16000\n"
     ]
    }
   ],
   "source": [
    "print crate, qrate"
   ]
  },
  {
   "cell_type": "code",
   "execution_count": 4,
   "metadata": {},
   "outputs": [
    {
     "name": "stdout",
     "output_type": "stream",
     "text": [
      "[ 385  351  383 ..., -257 -211 -223] [ 390  375  411 ...,  -74 -139  -96]\n"
     ]
    }
   ],
   "source": [
    "print csignal, qsignal"
   ]
  },
  {
   "cell_type": "code",
   "execution_count": 5,
   "metadata": {},
   "outputs": [
    {
     "name": "stdout",
     "output_type": "stream",
     "text": [
      "8\n0\n"
     ]
    }
   ],
   "source": [
    "print len(csignal)/crate # no of seconds in corpus file\n",
    "print len(qsignal)/qrate # no of seconds in query file"
   ]
  },
  {
   "cell_type": "code",
   "execution_count": 6,
   "metadata": {},
   "outputs": [],
   "source": [
    "win_length_ms = 20 # The window length of the cepstral analysis in milliseconds\n",
    "win_shift_ms = 10 # The window shift of the cepstral analysis in milliseconds\n",
    "n_filters = 24 # The number of filter bands\n",
    "n_ceps = 20 # The number of cepstral coefficients\n",
    "f_min = 0. # The minimal frequency of the filter bank\n",
    "f_max = 8000. # The maximal frequency of the filter bank\n",
    "delta_win = 2 # The integer delta value used for computing the first and second order derivatives\n",
    "pre_emphasis_coef = 0.97 # The coefficient used for the pre-emphasis\n",
    "dct_norm = True # A factor by which the cepstral coefficients are multiplied\n",
    "mel_scale = True # Tell whether cepstral features are extracted on a linear (LFCC) or Mel (MFCC) scale"
   ]
  },
  {
   "cell_type": "markdown",
   "metadata": {},
   "source": [
    "Get MFCC for corpus audio file"
   ]
  },
  {
   "cell_type": "code",
   "execution_count": 7,
   "metadata": {
    "collapsed": false
   },
   "outputs": [
    {
     "name": "stdout",
     "output_type": "stream",
     "text": [
      "854\n(854, 20)\n20\n"
     ]
    }
   ],
   "source": [
    "c = ap.Ceps(crate, win_length_ms, win_shift_ms, n_filters, n_ceps, f_min, f_max, delta_win, pre_emphasis_coef, mel_scale, dct_norm)\n",
    "csignal = numpy.cast['float'](csignal) # vector should be in **float**\n",
    "c_mfcc = c(csignal)\n",
    "print len(c_mfcc) # number of frames\n",
    "print c_mfcc.shape\n",
    "print len(c_mfcc[0]) # no of elements"
   ]
  },
  {
   "cell_type": "markdown",
   "metadata": {},
   "source": [
    "Get MFCC for query audio file"
   ]
  },
  {
   "cell_type": "code",
   "execution_count": 10,
   "metadata": {},
   "outputs": [
    {
     "name": "stdout",
     "output_type": "stream",
     "text": [
      "70\n(70, 20)\n20\n[[  3.95065161e+01  -3.60509923e+00   2.02177005e+00 ...,   2.85666474e-01\n    7.11654482e-02   2.40827651e-01]\n [  3.87936208e+01  -3.75278623e+00   1.17643442e+00 ...,  -1.13135413e-01\n   -7.96377998e-02  -4.97189525e-02]\n [  3.94295998e+01  -2.74036313e+00   1.46673766e+00 ...,   5.77524478e-03\n   -2.16153244e-01   1.66984269e-02]\n ..., \n [  3.86376034e+01  -2.76362569e+00   2.03138836e+00 ...,   1.47027476e-01\n    9.81702028e-02   1.39942514e-01]\n [  3.90416561e+01  -3.53637432e+00   1.24166620e+00 ...,   3.30476275e-02\n   -3.08123407e-01  -1.82613932e-01]\n [  3.91926194e+01  -3.75468149e+00   4.67858648e-01 ...,   3.46461347e-01\n    1.22083067e-01  -6.71412481e-02]]\n"
     ]
    }
   ],
   "source": [
    "c = ap.Ceps(qrate, win_length_ms, win_shift_ms, n_filters, n_ceps, f_min, f_max, delta_win, pre_emphasis_coef, mel_scale, dct_norm)\n",
    "qsignal = numpy.cast['float'](qsignal) # vector should be in **float**\n",
    "q_mfcc = c(qsignal)\n",
    "print len(q_mfcc) # number of frames\n",
    "print q_mfcc.shape\n",
    "print len(q_mfcc[0]) # no of elements\n",
    "print q_mfcc"
   ]
  },
  {
   "cell_type": "code",
   "execution_count": 11,
   "metadata": {},
   "outputs": [],
   "source": [
    "from mpl_toolkits.mplot3d import Axes3D\n",
    "import matplotlib.pyplot as plt\n",
    "#fig = plt.figure()\n",
    "#ax = fig.gca(projection='3d')\n",
    "#ax.plot_surface(q_mfcc, c_mfcc, q_mfcc)"
   ]
  },
  {
   "cell_type": "code",
   "execution_count": 10,
   "metadata": {},
   "outputs": [],
   "source": [
    ""
   ]
  },
  {
   "cell_type": "code",
   "execution_count": 10,
   "metadata": {},
   "outputs": [],
   "source": [
    ""
   ]
  },
  {
   "cell_type": "code",
   "execution_count": 10,
   "metadata": {},
   "outputs": [],
   "source": [
    ""
   ]
  },
  {
   "cell_type": "code",
   "execution_count": null,
   "metadata": {},
   "outputs": [],
   "source": [
    ""
   ]
  }
 ],
 "metadata": {
  "kernelspec": {
   "display_name": "Python 2",
   "language": "python",
   "name": "python2"
  },
  "language_info": {
   "codemirror_mode": {
    "name": "ipython",
    "version": 2.0
   },
   "file_extension": ".py",
   "mimetype": "text/x-python",
   "name": "python",
   "nbconvert_exporter": "python",
   "pygments_lexer": "ipython2",
   "version": "2.7.6"
  }
 },
 "nbformat": 4,
 "nbformat_minor": 0
}